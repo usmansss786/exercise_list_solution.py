{
 "cells": [
  {
   "cell_type": "code",
   "execution_count": 101,
   "metadata": {},
   "outputs": [
    {
     "name": "stdout",
     "output_type": "stream",
     "text": [
      "Hamza\n",
      "Usama\n",
      "Faizan\n",
      "Hanan\n",
      "Mujtaba\n",
      "Imran\n"
     ]
    }
   ],
   "source": [
    "Names:list=['Hamza','Usama','Faizan','Hanan','Mujtaba','Imran']\n",
    "print(Names[0])\n",
    "print(Names[1])\n",
    "print(Names[2])\n",
    "print(Names[3])\n",
    "print(Names[4])\n",
    "print(Names[5])"
   ]
  },
  {
   "cell_type": "code",
   "execution_count": 75,
   "metadata": {},
   "outputs": [
    {
     "name": "stdout",
     "output_type": "stream",
     "text": [
      "Assalam-o-Alaikum Hamza, How are you today\n",
      "Assalam-o-Alaikum Usama,  How are you today\n",
      "Assalam-o-Alaikum Faizan,  How are you today\n",
      "Assalam-o-Alaikum Hanan,  How are you today\n",
      "Assalam-o-Alaikum Mujtaba,  How are you today\n",
      "Assalam-o-Alaikum Imran,  How are you today\n"
     ]
    }
   ],
   "source": [
    "\"\"\"Exercise 3-2: Greetings\n",
    "● Task: Start with the list you used in Exercise 3-1. Instead of just printing each person’s\n",
    "name, print a message to them. The text of each message should be the same, but each\n",
    "message should be personalized with the person’s name.\"\"\"\n",
    "Names:list=['Hamza','Usama','Faizan','Hanan','Mujtaba','Imran']\n",
    "print(f\"Assalam-o-Alaikum {Names[0]}, How are you today\")\n",
    "print(f\"Assalam-o-Alaikum {Names[1]},  How are you today\")\n",
    "print(f\"Assalam-o-Alaikum {Names[2]},  How are you today\")\n",
    "print(f\"Assalam-o-Alaikum {Names[3]},  How are you today\")\n",
    "print(f\"Assalam-o-Alaikum {Names[4]},  How are you today\")\n",
    "print(f\"Assalam-o-Alaikum {Names[5]},  How are you today\")"
   ]
  },
  {
   "cell_type": "code",
   "execution_count": 77,
   "metadata": {},
   "outputs": [
    {
     "name": "stdout",
     "output_type": "stream",
     "text": [
      "Assalam-o-Alaikum Hamza,  How are you today\n",
      "Assalam-o-Alaikum Usama,  How are you today\n",
      "Assalam-o-Alaikum Faizan,  How are you today\n",
      "Assalam-o-Alaikum Hanan,  How are you today\n",
      "Assalam-o-Alaikum Mujtaba,  How are you today\n",
      "Assalam-o-Alaikum Imran,  How are you today\n"
     ]
    }
   ],
   "source": [
    "\"\"\"Second Method\"\"\"\n",
    "\"\"\"Exercise 3-2: Greetings\n",
    "● Task: Start with the list you used in Exercise 3-1. Instead of just printing each person’s\n",
    "name, print a message to them. The text of each message should be the same, but each\n",
    "message should be personalized with the person’s name.\"\"\"\n",
    "\n",
    "\n",
    "guest_list=Names.copy()\n",
    "for guest in guest_list:\n",
    "  print(f\"Assalam-o-Alaikum {guest},  How are you today\")"
   ]
  },
  {
   "cell_type": "code",
   "execution_count": 79,
   "metadata": {},
   "outputs": [
    {
     "name": "stdout",
     "output_type": "stream",
     "text": [
      "I would like to own a Honda motorcycle\n",
      "I would like to own a Tesla car\n",
      "I would like to own a Yamaha bike\n",
      "I would like to own a BMW car\n"
     ]
    }
   ],
   "source": [
    "\"\"\"Exercise 3-3: Your Own List\n",
    "● Task: Think of your favorite mode of transportation, such as a motorcycle or a car, and\n",
    "make a list that stores several examples. Use your list to print a series of statements\n",
    "about these items, such as “I would like to own a Honda motorcycle.”\"\"\"\n",
    "\n",
    "transportation_modes = [\"Honda motorcycle\", \"Tesla car\", \"Yamaha bike\", \"BMW car\"]\n",
    "for mode in transportation_modes:\n",
    "    print(f\"I would like to own a {mode}\")"
   ]
  },
  {
   "cell_type": "code",
   "execution_count": 81,
   "metadata": {},
   "outputs": [
    {
     "name": "stdout",
     "output_type": "stream",
     "text": [
      "Hello Hamza, I would like to invite you to Dinner\n",
      "Hello Usama, I would like to invite you to Dinner\n",
      "Hello Hanan, I would like to invite you to Dinner\n",
      "Hello Ali, I would like to invite you to Dinner\n"
     ]
    }
   ],
   "source": [
    "\"\"\"Exercise 3-4: Guest List\n",
    "● Task: If you could invite anyone, living or deceased, to dinner, who would you invite?\n",
    "Make a list that includes at least three people you’d like to invite to dinner. Then use your\n",
    "list to print a message to each person, inviting them to dinner.\"\"\"\n",
    "\n",
    "Friends_List: list =['Hamza','Usama','Hanan','Ali']\n",
    "print(f\"Hello {Friends_List[0]}, I would like to invite you to Dinner\")\n",
    "print(f\"Hello {Friends_List[1]}, I would like to invite you to Dinner\")\n",
    "print(f\"Hello {Friends_List[2]}, I would like to invite you to Dinner\")\n",
    "print(f\"Hello {Friends_List[3]}, I would like to invite you to Dinner\")\n",
    "\n",
    "\n"
   ]
  },
  {
   "cell_type": "code",
   "execution_count": 83,
   "metadata": {},
   "outputs": [
    {
     "name": "stdout",
     "output_type": "stream",
     "text": [
      "Hello Hamza, I would like to invite you to Dinner \n",
      "Hello Usama, I would like to invite you to Dinner \n",
      "Hello Hanan, I would like to invite you to Dinner \n",
      "Hello Ali, I would like to invite you to Dinner \n"
     ]
    }
   ],
   "source": [
    "\"\"\"SECOND METHOD\"\"\"\n",
    "\"\"\"Exercise 3-4: Guest List\n",
    "● Task: If you could invite anyone, living or deceased, to dinner, who would you invite?\n",
    "Make a list that includes at least three people you’d like to invite to dinner. Then use your\n",
    "list to print a message to each person, inviting them to dinner.\"\"\"\n",
    "\n",
    "\n",
    "Friends_List: list =['Hamza','Usama','Hanan','Ali']\n",
    "for Friends in Friends_List:\n",
    "    print(f\"Hello {Friends}, I would like to invite you to Dinner \")\n",
    "\n"
   ]
  },
  {
   "cell_type": "code",
   "execution_count": 85,
   "metadata": {},
   "outputs": [
    {
     "name": "stdout",
     "output_type": "stream",
     "text": [
      "Hello Hamza, I would like to invite you to Dinner\n",
      "Hello Usama, I would like to invite you to Dinner\n",
      "Hello Hanan, I would like to invite you to Dinner\n",
      "Hello Ali, I would like to invite you to Dinner\n",
      "\n",
      "Bad news, Ali cannot join us in the Dinner.\n",
      "\n",
      "Hello Hamza, you are still joining us in the Dinner\n",
      "Hello Usama, you are still joining us in the Dinner\n",
      "Hello Hanan, you are still joining us in the Dinner\n",
      "Hello Faizan, you are invited to the Dinner\n"
     ]
    }
   ],
   "source": [
    "\"\"\"Exercise 3-5: Changing Guest List\n",
    "● Task: Start with your program from Exercise 3-4. Add a print() call at the end of your\n",
    "program, stating the name of the guest who can’t make it. Modify your list, replacing the\n",
    "\n",
    "name of the guest who can’t make it with the name of the new person you are inviting.\n",
    "Print a second set of invitation messages, one for each person who is still in your list.\"\"\"\n",
    "\n",
    "Friends_List: list =['Hamza','Usama','Hanan','Ali',]\n",
    "print(f\"Hello {Friends_List[0]}, I would like to invite you to Dinner\")\n",
    "print(f\"Hello {Friends_List[1]}, I would like to invite you to Dinner\")\n",
    "print(f\"Hello {Friends_List[2]}, I would like to invite you to Dinner\")\n",
    "print(f\"Hello {Friends_List[3]}, I would like to invite you to Dinner\")\n",
    "\n",
    "#Guest who is not joining us in the Dinner\n",
    "\n",
    "print(f\"\\nBad news, {Friends_List[3]} cannot join us in the Dinner.\\n\")\n",
    "\n",
    "#Replace the friend who cannot join\n",
    "\n",
    "Friends_List[3]: list ='Faizan'\n",
    "\n",
    "# New set of invitation to friends:\n",
    "\n",
    "print(f\"Hello {Friends_List[0]}, you are still joining us in the Dinner\")\n",
    "print(f\"Hello {Friends_List[1]}, you are still joining us in the Dinner\")\n",
    "print(f\"Hello {Friends_List[2]}, you are still joining us in the Dinner\")\n",
    "print(f\"Hello {Friends_List[3]}, you are invited to the Dinner\")\n"
   ]
  },
  {
   "cell_type": "code",
   "execution_count": 88,
   "metadata": {},
   "outputs": [
    {
     "name": "stdout",
     "output_type": "stream",
     "text": [
      "Hello Hamza, I would like to invite you to Dinner\n",
      "Hello Usama, I would like to invite you to Dinner\n",
      "Hello Hanan, I would like to invite you to Dinner\n",
      "Hello Ali, I would like to invite you to Dinner\n",
      "\n",
      "Bad news, Ali cannot join us in the Dinner.\n",
      "\n",
      "Hello Hamza, you are still joining us in the Dinner\n",
      "Hello Usama, you are still joining us in the Dinner\n",
      "Hello Hanan, you are still joining us in the Dinner\n",
      "Hello Faizan, you are invited to the Dinner\n",
      "\n",
      "Hurrah! I found a bigger table\n",
      "\n",
      "Hello Ahmad, you are invited to Dinner\n",
      "Hello Hamza, you are invited to Dinner\n",
      "Hello Usama, you are invited to Dinner\n",
      "Hello Umer, you are invited to Dinner\n",
      "Hello Hanan, you are invited to Dinner\n",
      "Hello Faizan, you are invited to Dinner\n",
      "Hello Mujtaba, you are invited to Dinner\n"
     ]
    }
   ],
   "source": [
    "\"\"\"Exercise 3-6: More Guests\n",
    "● Task: Start with your program from Exercise 3-4 or 3-5. Add a print() call to the end\n",
    "of your program, informing people that you found a bigger table. Use insert() to add\n",
    "one new guest to the beginning of your list. Use insert() to add one new guest to the\n",
    "middle of your list. Use append() to add one new guest to the end of your list. Print a\n",
    "new set of invitation messages, one for each person in your list.\"\"\"\n",
    "\n",
    "\n",
    "Friends_List: list =['Hamza','Usama','Hanan','Ali',]\n",
    "print(f\"Hello {Friends_List[0]}, I would like to invite you to Dinner\")\n",
    "print(f\"Hello {Friends_List[1]}, I would like to invite you to Dinner\")\n",
    "print(f\"Hello {Friends_List[2]}, I would like to invite you to Dinner\")\n",
    "print(f\"Hello {Friends_List[3]}, I would like to invite you to Dinner\")\n",
    "\n",
    "#Guest who is not joining us in the Dinner\n",
    "\n",
    "print(f\"\\nBad news, {Friends_List[3]} cannot join us in the Dinner.\\n\")\n",
    "\n",
    "#Replace the friend who cannot join\n",
    "\n",
    "Friends_List[3]: list ='Faizan'\n",
    "\n",
    "# New set of invitation to friends:\n",
    "\n",
    "print(f\"Hello {Friends_List[0]}, you are still joining us in the Dinner\")\n",
    "print(f\"Hello {Friends_List[1]}, you are still joining us in the Dinner\")\n",
    "print(f\"Hello {Friends_List[2]}, you are still joining us in the Dinner\")\n",
    "print(f\"Hello {Friends_List[3]}, you are invited to the Dinner\")\n",
    "\n",
    "# Informing my friends that i found a bigger table:\n",
    "print(f\"\\nHurrah! I found a bigger table\\n\")\n",
    "#Using insert()and append()method to add new friends:\n",
    "Friends_List.insert(0,'Ahmad')\n",
    "Friends_List.insert(3,'Umer')\n",
    "Friends_List.append('Mujtaba')\n",
    "# Printing new set of invitation to my friends:\n",
    "for Friends in Friends_List:\n",
    "    print(f\"Hello {Friends}, you are invited to Dinner\")\n",
    "\n",
    "    \n",
    "\n"
   ]
  },
  {
   "cell_type": "code",
   "execution_count": 92,
   "metadata": {},
   "outputs": [
    {
     "name": "stdout",
     "output_type": "stream",
     "text": [
      "\n",
      "Unfortuniately, I can invite only two persons\n",
      "I am sorry Hamza, I can't invite you to dinner\n",
      "I am sorry Usama, I can't invite you to dinner\n",
      "I am sorry Faizan, I can't invite you to dinner\n",
      "I am sorry Mujtaba, I can't invite you to dinner\n",
      "Dear Ahmad, you are still invited to dinner\n",
      "Dear Umer, you are still invited to dinner\n",
      "\n",
      "Friends_List: []\n"
     ]
    }
   ],
   "source": [
    "\"\"\"Exercise 3-7: Shrinking Guest List\n",
    "● Task: Start with your program from Exercise 3-6. Add a new line that prints a message\n",
    "saying that you can invite only two people for dinner. Use pop() to remove guests from\n",
    "your list one at a time until only two names remain in your list. Each time you pop a\n",
    "name from your list, print a message to that person letting them know you’re sorry you\n",
    "can’t invite them to dinner. Print a message to each of the two people still on your list,\n",
    "letting them know they’re still invited. Use del to remove the last two names from your\n",
    "list, so you have an empty list. Print your list to make sure you actually have an empty\n",
    "list at the end of your program.\"\"\"\n",
    "\n",
    "Friends_List: list =['Ahmad', 'Hamza', 'Usama', 'Umer', 'Faizan', 'Mujtaba']\n",
    "# Informing friends that I can't invite them to dinner:\n",
    "print(\"\\nUnfortuniately, I can invite only two persons\")\n",
    "#Using pop() method to remove guest:\n",
    "Removed_Friends=Friends_List.pop(1)    #After pop the index shift\n",
    "print(f\"I am sorry {Removed_Friends}, I can't invite you to dinner\")\n",
    "Removed_Friends=Friends_List.pop(1)    \n",
    "print(f\"I am sorry {Removed_Friends}, I can't invite you to dinner\")\n",
    "Removed_Friends=Friends_List.pop(2)    \n",
    "print(f\"I am sorry {Removed_Friends}, I can't invite you to dinner\")\n",
    "Removed_Friends=Friends_List.pop(2)    \n",
    "print(f\"I am sorry {Removed_Friends}, I can't invite you to dinner\")\n",
    "\n",
    "# Informing the two friends you are invited in dinner:\n",
    "\n",
    "for Friends in Friends_List:\n",
    "    print(f\"Dear {Friends}, you are still invited to dinner\")\n",
    "\n",
    " # Using del method to remove remaining two friends:\n",
    "del Friends_List[0]\n",
    "del Friends_List[0]\n",
    " # Print empty list:\n",
    "print(\"\\nFriends_List:\", Friends_List)\n",
    "\n",
    "\n",
    "\n",
    "\n",
    "\n",
    "\n",
    "\n",
    "\n",
    "\n",
    "\n",
    "\n",
    "\n",
    "\n",
    "\n"
   ]
  },
  {
   "cell_type": "code",
   "execution_count": 95,
   "metadata": {},
   "outputs": [
    {
     "name": "stdout",
     "output_type": "stream",
     "text": [
      "Orginal order:['Paris', 'Tokyo', 'Ice land', 'Berlin', 'Moscow']\n",
      "After using sorted: ['Berlin', 'Ice land', 'Moscow', 'Paris', 'Tokyo']\n",
      "Orginal order:['Paris', 'Tokyo', 'Ice land', 'Berlin', 'Moscow']\n",
      "Reverse Alphabetical order: ['Tokyo', 'Paris', 'Moscow', 'Ice land', 'Berlin']\n",
      "Orginal order:['Paris', 'Tokyo', 'Ice land', 'Berlin', 'Moscow']\n",
      "After using reverse method: ['Moscow', 'Berlin', 'Ice land', 'Tokyo', 'Paris']\n",
      "After using reverse method to change list to origanal order: ['Paris', 'Tokyo', 'Ice land', 'Berlin', 'Moscow']\n",
      "Using sort to change order to alphabetical order:['Berlin', 'Ice land', 'Moscow', 'Paris', 'Tokyo']\n",
      "Using sort to change order to reverse alphabetical order:['Tokyo', 'Paris', 'Moscow', 'Ice land', 'Berlin']\n"
     ]
    }
   ],
   "source": [
    "\"\"\"Exercise 3-8: Seeing the World\n",
    "● Task: Think of at least five places in the world you’d like to visit. Store the locations in a\n",
    "list. Make sure the list is not in alphabetical order. Print your list in its original order. Don’t\n",
    "worry about printing the list neatly; just print it as a raw Python list. Use sorted() to\n",
    "print your list in alphabetical order without modifying the actual list. Show that your list is\n",
    "still in its original order by printing it. Use sorted() to print your list in\n",
    "reverse-alphabetical order without changing the order of the original list. Show that your\n",
    "list is still in its original order by printing it again. Use reverse() to change the order of\n",
    "your list. Print the list to show that its order has changed. Use reverse() to change the\n",
    "order of your list again. Print the list to show it’s back to its original order. Use sort() to\n",
    "change your list so it’s stored in alphabetical order. Print the list to show that its order\n",
    "has been changed. Use sort() to change your list so it’s stored in reverse-alphabetical\n",
    "order. Print the list to show that its order has changed.\"\"\"\n",
    "Favorite_places:list = ['Paris', 'Tokyo', 'Ice land','Berlin', 'Moscow']\n",
    "# print list in orignal order:\n",
    "print(f\"Orginal order:{Favorite_places}\")\n",
    "# NO:01 print in alphabetical order with sorted() method:\n",
    "sorted_Favorite_places= sorted(Favorite_places)\n",
    "print(f\"After using sorted: {sorted(Favorite_places)}\")\n",
    "# NO:02 Again print list in orginal order:\n",
    "print(f\"Orginal order:{Favorite_places}\")\n",
    "# NO:03 Again print list in reverse-alphabetical\n",
    "print(f\"Reverse Alphabetical order: {sorted(Favorite_places,reverse=True)}\")\n",
    "# NO:04 Again printing list in origanal order\n",
    "print(f\"Orginal order:{Favorite_places}\")\n",
    "# NO:05 Again using reverse() method to chang list:\n",
    "Favorite_places.reverse()\n",
    "print(f\"After using reverse method: {Favorite_places}\")\n",
    "# NO:06 Again using reverse() to change list to its origanal order\n",
    "Favorite_places.reverse()\n",
    "print(f\"After using reverse method to change list to origanal order: {Favorite_places}\")\n",
    "# NO:07 Using sort() to change list to alphabetical order\n",
    "Favorite_places.sort()\n",
    "print(f\"Using sort to change order to alphabetical order:{Favorite_places}\")\n",
    "# NO:08 Again Using sort() to change list to reverse Alphabetical order\n",
    "Favorite_places.sort(reverse=True)\n",
    "print(f\"Using sort to change order to reverse alphabetical order:{Favorite_places}\")\n",
    "\n",
    "\n",
    "\n",
    "\n",
    "\n",
    "\n",
    "\n",
    "\n",
    "\n",
    "\n",
    "\n",
    "\n",
    "\n",
    "\n",
    "\n",
    "\n"
   ]
  },
  {
   "cell_type": "code",
   "execution_count": 99,
   "metadata": {},
   "outputs": [
    {
     "name": "stdout",
     "output_type": "stream",
     "text": [
      "list of citoes after coping from Favorite_places:['Tokyo', 'Paris', 'Moscow', 'Ice land', 'Berlin']\n",
      "After append,['Tokyo', 'Paris', 'Moscow', 'Ice land', 'Berlin', 'Lahore']\n",
      "index:5\n",
      "After insert Cities:['London', 'Tokyo', 'Paris', 'Moscow', 'Ice land', 'Berlin', 'Lahore']\n",
      "After remove:['London', 'Tokyo', 'Paris', 'Moscow', 'Ice land', 'Lahore']\n",
      "After pop():['Tokyo', 'Paris', 'Moscow', 'Ice land', 'Lahore']\n",
      "After sort:['Ice land', 'Lahore', 'Moscow', 'Paris', 'Tokyo']\n",
      "After reverse:['Tokyo', 'Paris', 'Moscow', 'Lahore', 'Ice land']\n",
      "After clear the list :[]\n"
     ]
    }
   ],
   "source": [
    "\"\"\"Exercise 3-9: Every Function\n",
    "● Task: Think of things you could store in a list. For example, you could make a list of\n",
    "mountains, rivers, countries, cities, languages, or anything else you’d like. Write a\n",
    "program that creates a list containing these items and then uses each function\n",
    "introduced in this chapter at least once.\"\"\"\n",
    "# Using copy() method:\n",
    "Cities:list=Favorite_places.copy()\n",
    "print(f\"list of citoes after coping from Favorite_places:{Cities}\")\n",
    "#Using Append()method:\n",
    "Cities.append(\"Lahore\")\n",
    "print(f\"After append,{Cities}\")\n",
    "# Using Index()method:\n",
    "print(f\"index:{Cities.index(\"Lahore\")}\")\n",
    "#Using Insert method:\n",
    "Cities.insert(0,\"London\")\n",
    "print(f\"After insert Cities:{Cities}\")\n",
    "#Uing remove method:\n",
    "Cities.remove(\"Berlin\")\n",
    "print(f\"After remove:{Cities}\")\n",
    "#Using pop()method:\n",
    "Cities.pop(0)\n",
    "print(f\"After pop():{Cities}\")\n",
    "#Using sort() method:\n",
    "Cities.sort()\n",
    "print(f\"After sort:{Cities}\")\n",
    "#Using reverse() method:\n",
    "Cities.reverse()\n",
    "print(f\"After reverse:{Cities}\")\n",
    "#Using clear() method:\n",
    "Cities.clear()\n",
    "print(f\"After clear the list :{Cities}\")\n",
    "\n",
    "\n",
    "\n",
    "\n",
    "\n",
    "\n",
    "\n",
    "\n"
   ]
  },
  {
   "cell_type": "code",
   "execution_count": 102,
   "metadata": {},
   "outputs": [
    {
     "name": "stdout",
     "output_type": "stream",
     "text": [
      "Hamza\n",
      "Usama\n",
      "Faizan\n",
      "Hanan\n",
      "Mujtaba\n"
     ]
    },
    {
     "ename": "IndexError",
     "evalue": "list index out of range",
     "output_type": "error",
     "traceback": [
      "\u001b[1;31m---------------------------------------------------------------------------\u001b[0m",
      "\u001b[1;31mIndexError\u001b[0m                                Traceback (most recent call last)",
      "Cell \u001b[1;32mIn[102], line 12\u001b[0m\n\u001b[0;32m     10\u001b[0m \u001b[38;5;28mprint\u001b[39m(Names[\u001b[38;5;241m3\u001b[39m])\n\u001b[0;32m     11\u001b[0m \u001b[38;5;28mprint\u001b[39m(Names[\u001b[38;5;241m4\u001b[39m])\n\u001b[1;32m---> 12\u001b[0m \u001b[38;5;28mprint\u001b[39m(\u001b[43mNames\u001b[49m\u001b[43m[\u001b[49m\u001b[38;5;241;43m6\u001b[39;49m\u001b[43m]\u001b[49m)\n",
      "\u001b[1;31mIndexError\u001b[0m: list index out of range"
     ]
    }
   ],
   "source": [
    "\"\"\"Exercise 3-10: Intentional Error\n",
    "● Task: If you haven’t received an index error in one of your programs yet, try to make one\n",
    "happen. Change an index in one of your programs to produce an index error. Make sure\n",
    "you correct the error before closing the program.\"\"\"\n",
    "Names:list=['Hamza','Usama','Faizan','Hanan','Mujtaba','Imran']\n",
    "print(Names[0])\n",
    "print(Names[1])\n",
    "print(Names[2])\n",
    "print(Names[3])\n",
    "print(Names[4])\n",
    "print(Names[6])"
   ]
  },
  {
   "cell_type": "code",
   "execution_count": null,
   "metadata": {},
   "outputs": [],
   "source": []
  },
  {
   "cell_type": "code",
   "execution_count": null,
   "metadata": {},
   "outputs": [],
   "source": []
  }
 ],
 "metadata": {
  "kernelspec": {
   "display_name": "Python 3",
   "language": "python",
   "name": "python3"
  },
  "language_info": {
   "codemirror_mode": {
    "name": "ipython",
    "version": 3
   },
   "file_extension": ".py",
   "mimetype": "text/x-python",
   "name": "python",
   "nbconvert_exporter": "python",
   "pygments_lexer": "ipython3",
   "version": "3.12.4"
  }
 },
 "nbformat": 4,
 "nbformat_minor": 2
}
